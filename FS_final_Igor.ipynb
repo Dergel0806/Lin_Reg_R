{
 "cells": [
  {
   "cell_type": "code",
   "execution_count": 48,
   "metadata": {},
   "outputs": [],
   "source": [
    "library('gmodels')\n",
    "library(car)\n",
    "library(boot)\n",
    "library(stats)"
   ]
  },
  {
   "cell_type": "markdown",
   "metadata": {},
   "source": [
    "# Q1\n",
    "\n",
    "Using Final_Data_Ethics.csv\n",
    "*I removed responses with Not Applicable or missing data.\n",
    "\t\n",
    "1) Are engineers different than non-engineers in their willingness to give up access to cell phones to save a life (LIFE_PHONE)?\n",
    "\n",
    "2) Are engineers different than non-engineers in their willingness to harm a few to save many (GREATER_GOOD)?"
   ]
  },
  {
   "cell_type": "code",
   "execution_count": 2,
   "metadata": {},
   "outputs": [],
   "source": [
    "ethics <- read.csv('Final_Data_Ethics.csv')"
   ]
  },
  {
   "cell_type": "code",
   "execution_count": 3,
   "metadata": {},
   "outputs": [
    {
     "data": {
      "text/html": [
       "<table>\n",
       "<thead><tr><th scope=col>Timestamp</th><th scope=col>GOOD_ABSOLUTE</th><th scope=col>HARM</th><th scope=col>DISAGREE_HARM</th><th scope=col>GOOD</th><th scope=col>AVERAGE_GOOD</th><th scope=col>GREATER_GOOD</th><th scope=col>LIFE_PHONE</th><th scope=col>IDENTIFY_AS</th><th scope=col>ENGINEER</th></tr></thead>\n",
       "<tbody>\n",
       "\t<tr><td>9/11/2019 20:07:37</td><td>yes               </td><td>yes               </td><td>yes               </td><td>A                 </td><td>C                 </td><td>No                </td><td>No                </td><td>Engineer          </td><td>1                 </td></tr>\n",
       "\t<tr><td>9/11/2019 20:16:48</td><td>No                </td><td>yes               </td><td>no                </td><td>C                 </td><td>C                 </td><td>No                </td><td>No                </td><td>Wanderer          </td><td>0                 </td></tr>\n",
       "\t<tr><td>9/11/2019 20:31:43</td><td>No                </td><td>yes               </td><td>yes               </td><td>B                 </td><td>B                 </td><td>No                </td><td>No                </td><td>Engineer          </td><td>1                 </td></tr>\n",
       "\t<tr><td>9/11/2019 21:07:32</td><td>No                </td><td>yes               </td><td>yes               </td><td>A                 </td><td>B                 </td><td>No                </td><td>Yes               </td><td>Engineer          </td><td>1                 </td></tr>\n",
       "\t<tr><td>9/11/2019 21:30:00</td><td>yes               </td><td>No                </td><td>yes               </td><td>B                 </td><td>A                 </td><td>Yes               </td><td>Yes               </td><td>Engineer          </td><td>1                 </td></tr>\n",
       "\t<tr><td>9/11/2019 21:58:48</td><td>yes               </td><td>yes               </td><td>yes               </td><td>A                 </td><td>C                 </td><td>No                </td><td>Yes               </td><td>Wanderer          </td><td>0                 </td></tr>\n",
       "</tbody>\n",
       "</table>\n"
      ],
      "text/latex": [
       "\\begin{tabular}{r|llllllllll}\n",
       " Timestamp & GOOD\\_ABSOLUTE & HARM & DISAGREE\\_HARM & GOOD & AVERAGE\\_GOOD & GREATER\\_GOOD & LIFE\\_PHONE & IDENTIFY\\_AS & ENGINEER\\\\\n",
       "\\hline\n",
       "\t 9/11/2019 20:07:37 & yes                & yes                & yes                & A                  & C                  & No                 & No                 & Engineer           & 1                 \\\\\n",
       "\t 9/11/2019 20:16:48 & No                 & yes                & no                 & C                  & C                  & No                 & No                 & Wanderer           & 0                 \\\\\n",
       "\t 9/11/2019 20:31:43 & No                 & yes                & yes                & B                  & B                  & No                 & No                 & Engineer           & 1                 \\\\\n",
       "\t 9/11/2019 21:07:32 & No                 & yes                & yes                & A                  & B                  & No                 & Yes                & Engineer           & 1                 \\\\\n",
       "\t 9/11/2019 21:30:00 & yes                & No                 & yes                & B                  & A                  & Yes                & Yes                & Engineer           & 1                 \\\\\n",
       "\t 9/11/2019 21:58:48 & yes                & yes                & yes                & A                  & C                  & No                 & Yes                & Wanderer           & 0                 \\\\\n",
       "\\end{tabular}\n"
      ],
      "text/markdown": [
       "\n",
       "| Timestamp | GOOD_ABSOLUTE | HARM | DISAGREE_HARM | GOOD | AVERAGE_GOOD | GREATER_GOOD | LIFE_PHONE | IDENTIFY_AS | ENGINEER |\n",
       "|---|---|---|---|---|---|---|---|---|---|\n",
       "| 9/11/2019 20:07:37 | yes                | yes                | yes                | A                  | C                  | No                 | No                 | Engineer           | 1                  |\n",
       "| 9/11/2019 20:16:48 | No                 | yes                | no                 | C                  | C                  | No                 | No                 | Wanderer           | 0                  |\n",
       "| 9/11/2019 20:31:43 | No                 | yes                | yes                | B                  | B                  | No                 | No                 | Engineer           | 1                  |\n",
       "| 9/11/2019 21:07:32 | No                 | yes                | yes                | A                  | B                  | No                 | Yes                | Engineer           | 1                  |\n",
       "| 9/11/2019 21:30:00 | yes                | No                 | yes                | B                  | A                  | Yes                | Yes                | Engineer           | 1                  |\n",
       "| 9/11/2019 21:58:48 | yes                | yes                | yes                | A                  | C                  | No                 | Yes                | Wanderer           | 0                  |\n",
       "\n"
      ],
      "text/plain": [
       "  Timestamp          GOOD_ABSOLUTE HARM DISAGREE_HARM GOOD AVERAGE_GOOD\n",
       "1 9/11/2019 20:07:37 yes           yes  yes           A    C           \n",
       "2 9/11/2019 20:16:48 No            yes  no            C    C           \n",
       "3 9/11/2019 20:31:43 No            yes  yes           B    B           \n",
       "4 9/11/2019 21:07:32 No            yes  yes           A    B           \n",
       "5 9/11/2019 21:30:00 yes           No   yes           B    A           \n",
       "6 9/11/2019 21:58:48 yes           yes  yes           A    C           \n",
       "  GREATER_GOOD LIFE_PHONE IDENTIFY_AS ENGINEER\n",
       "1 No           No         Engineer    1       \n",
       "2 No           No         Wanderer    0       \n",
       "3 No           No         Engineer    1       \n",
       "4 No           Yes        Engineer    1       \n",
       "5 Yes          Yes        Engineer    1       \n",
       "6 No           Yes        Wanderer    0       "
      ]
     },
     "metadata": {},
     "output_type": "display_data"
    }
   ],
   "source": [
    "head(ethics)"
   ]
  },
  {
   "cell_type": "markdown",
   "metadata": {},
   "source": [
    "## Q1.1\n",
    "Chi-square"
   ]
  },
  {
   "cell_type": "code",
   "execution_count": 4,
   "metadata": {},
   "outputs": [
    {
     "name": "stdout",
     "output_type": "stream",
     "text": [
      "\n",
      "   Cell Contents\n",
      "|-------------------------|\n",
      "|                   Count |\n",
      "| Chi-square contribution |\n",
      "|             Row Percent |\n",
      "|          Column Percent |\n",
      "|           Total Percent |\n",
      "|-------------------------|\n",
      "\n",
      "Total Observations in Table:  67 \n",
      "\n",
      "                | ethics$LIFE_PHONE \n",
      "ethics$ENGINEER |       No  |      Yes  | Row Total | \n",
      "----------------|-----------|-----------|-----------|\n",
      "              0 |        3  |       29  |       32  | \n",
      "                |    1.302  |    0.284  |           | \n",
      "                |    9.375% |   90.625% |   47.761% | \n",
      "                |   25.000% |   52.727% |           | \n",
      "                |    4.478% |   43.284% |           | \n",
      "----------------|-----------|-----------|-----------|\n",
      "              1 |        9  |       26  |       35  | \n",
      "                |    1.190  |    0.260  |           | \n",
      "                |   25.714% |   74.286% |   52.239% | \n",
      "                |   75.000% |   47.273% |           | \n",
      "                |   13.433% |   38.806% |           | \n",
      "----------------|-----------|-----------|-----------|\n",
      "   Column Total |       12  |       55  |       67  | \n",
      "                |   17.910% |   82.090% |           | \n",
      "----------------|-----------|-----------|-----------|\n",
      "\n",
      " \n",
      "Statistics for All Table Factors\n",
      "\n",
      "\n",
      "Pearson's Chi-squared test \n",
      "------------------------------------------------------------\n",
      "Chi^2 =  3.035394     d.f. =  1     p =  0.08146679 \n",
      "\n",
      "Pearson's Chi-squared test with Yates' continuity correction \n",
      "------------------------------------------------------------\n",
      "Chi^2 =  2.025794     d.f. =  1     p =  0.1546481 \n",
      "\n",
      " \n",
      "       Minimum expected frequency: 5.731343 \n",
      "\n"
     ]
    }
   ],
   "source": [
    "CrossTable(ethics$ENGINEER, ethics$LIFE_PHONE, fisher = F, chisq = TRUE,\n",
    "expected = F, sresid = F, format = \"SPSS\")"
   ]
  },
  {
   "cell_type": "markdown",
   "metadata": {},
   "source": [
    "**NO**. p=0.08146679."
   ]
  },
  {
   "cell_type": "markdown",
   "metadata": {},
   "source": [
    "## Q1.2\n",
    "Chi-square"
   ]
  },
  {
   "cell_type": "code",
   "execution_count": 5,
   "metadata": {},
   "outputs": [
    {
     "name": "stdout",
     "output_type": "stream",
     "text": [
      "\n",
      "   Cell Contents\n",
      "|-------------------------|\n",
      "|                   Count |\n",
      "| Chi-square contribution |\n",
      "|             Row Percent |\n",
      "|          Column Percent |\n",
      "|           Total Percent |\n",
      "|-------------------------|\n",
      "\n",
      "Total Observations in Table:  67 \n",
      "\n",
      "                | ethics$GREATER_GOOD \n",
      "ethics$ENGINEER |       No  |      Yes  | Row Total | \n",
      "----------------|-----------|-----------|-----------|\n",
      "              0 |       22  |       10  |       32  | \n",
      "                |    0.611  |    0.851  |           | \n",
      "                |   68.750% |   31.250% |   47.761% | \n",
      "                |   56.410% |   35.714% |           | \n",
      "                |   32.836% |   14.925% |           | \n",
      "----------------|-----------|-----------|-----------|\n",
      "              1 |       17  |       18  |       35  | \n",
      "                |    0.558  |    0.778  |           | \n",
      "                |   48.571% |   51.429% |   52.239% | \n",
      "                |   43.590% |   64.286% |           | \n",
      "                |   25.373% |   26.866% |           | \n",
      "----------------|-----------|-----------|-----------|\n",
      "   Column Total |       39  |       28  |       67  | \n",
      "                |   58.209% |   41.791% |           | \n",
      "----------------|-----------|-----------|-----------|\n",
      "\n",
      " \n",
      "Statistics for All Table Factors\n",
      "\n",
      "\n",
      "Pearson's Chi-squared test \n",
      "------------------------------------------------------------\n",
      "Chi^2 =  2.798021     d.f. =  1     p =  0.09438072 \n",
      "\n",
      "Pearson's Chi-squared test with Yates' continuity correction \n",
      "------------------------------------------------------------\n",
      "Chi^2 =  2.029998     d.f. =  1     p =  0.1542208 \n",
      "\n",
      " \n",
      "       Minimum expected frequency: 13.37313 \n",
      "\n"
     ]
    }
   ],
   "source": [
    "CrossTable(ethics$ENGINEER, ethics$GREATER_GOOD, fisher = F, chisq = TRUE,\n",
    "expected = F, sresid = F, format = \"SPSS\")"
   ]
  },
  {
   "cell_type": "markdown",
   "metadata": {},
   "source": [
    "**NO**. p=0.09438072."
   ]
  },
  {
   "cell_type": "code",
   "execution_count": 6,
   "metadata": {},
   "outputs": [],
   "source": [
    "class <- read.csv('Final_Data_Class1.csv')"
   ]
  },
  {
   "cell_type": "code",
   "execution_count": 7,
   "metadata": {},
   "outputs": [
    {
     "data": {
      "text/html": [
       "<table>\n",
       "<thead><tr><th scope=col>Timestamp</th><th scope=col>BA_MATH</th><th scope=col>ENG_FIRST_LANGUAGE</th><th scope=col>WORRIED</th><th scope=col>HOURS_DEDICATED_TO_COURSE</th></tr></thead>\n",
       "<tbody>\n",
       "\t<tr><td>8/24/2019 12:59:50</td><td>Yes               </td><td>No                </td><td>No                </td><td>110               </td></tr>\n",
       "\t<tr><td>8/24/2019 13:00:39</td><td>No                </td><td>No                </td><td>No                </td><td> 35               </td></tr>\n",
       "\t<tr><td>8/24/2019 13:02:07</td><td>No                </td><td>No                </td><td>Yes               </td><td> 10               </td></tr>\n",
       "\t<tr><td>8/24/2019 13:05:15</td><td>Yes               </td><td>Yes               </td><td>No                </td><td> 20               </td></tr>\n",
       "\t<tr><td>8/24/2019 13:07:19</td><td>No                </td><td>No                </td><td>No                </td><td> 50               </td></tr>\n",
       "\t<tr><td>8/24/2019 13:11:22</td><td>Yes               </td><td>No                </td><td>No                </td><td> 50               </td></tr>\n",
       "</tbody>\n",
       "</table>\n"
      ],
      "text/latex": [
       "\\begin{tabular}{r|lllll}\n",
       " Timestamp & BA\\_MATH & ENG\\_FIRST\\_LANGUAGE & WORRIED & HOURS\\_DEDICATED\\_TO\\_COURSE\\\\\n",
       "\\hline\n",
       "\t 8/24/2019 12:59:50 & Yes                & No                 & No                 & 110               \\\\\n",
       "\t 8/24/2019 13:00:39 & No                 & No                 & No                 &  35               \\\\\n",
       "\t 8/24/2019 13:02:07 & No                 & No                 & Yes                &  10               \\\\\n",
       "\t 8/24/2019 13:05:15 & Yes                & Yes                & No                 &  20               \\\\\n",
       "\t 8/24/2019 13:07:19 & No                 & No                 & No                 &  50               \\\\\n",
       "\t 8/24/2019 13:11:22 & Yes                & No                 & No                 &  50               \\\\\n",
       "\\end{tabular}\n"
      ],
      "text/markdown": [
       "\n",
       "| Timestamp | BA_MATH | ENG_FIRST_LANGUAGE | WORRIED | HOURS_DEDICATED_TO_COURSE |\n",
       "|---|---|---|---|---|\n",
       "| 8/24/2019 12:59:50 | Yes                | No                 | No                 | 110                |\n",
       "| 8/24/2019 13:00:39 | No                 | No                 | No                 |  35                |\n",
       "| 8/24/2019 13:02:07 | No                 | No                 | Yes                |  10                |\n",
       "| 8/24/2019 13:05:15 | Yes                | Yes                | No                 |  20                |\n",
       "| 8/24/2019 13:07:19 | No                 | No                 | No                 |  50                |\n",
       "| 8/24/2019 13:11:22 | Yes                | No                 | No                 |  50                |\n",
       "\n"
      ],
      "text/plain": [
       "  Timestamp          BA_MATH ENG_FIRST_LANGUAGE WORRIED\n",
       "1 8/24/2019 12:59:50 Yes     No                 No     \n",
       "2 8/24/2019 13:00:39 No      No                 No     \n",
       "3 8/24/2019 13:02:07 No      No                 Yes    \n",
       "4 8/24/2019 13:05:15 Yes     Yes                No     \n",
       "5 8/24/2019 13:07:19 No      No                 No     \n",
       "6 8/24/2019 13:11:22 Yes     No                 No     \n",
       "  HOURS_DEDICATED_TO_COURSE\n",
       "1 110                      \n",
       "2  35                      \n",
       "3  10                      \n",
       "4  20                      \n",
       "5  50                      \n",
       "6  50                      "
      ]
     },
     "metadata": {},
     "output_type": "display_data"
    }
   ],
   "source": [
    "head(class)"
   ]
  },
  {
   "cell_type": "markdown",
   "metadata": {},
   "source": [
    "# Q2\n",
    "Using Final_Data_Class1.csv\n",
    "\n",
    "1) Are people with a Bachelors in Mathematics or higher (BA_MATH) significantly less worried about this class than those without a Bachelors or higher in Mathematics?\n",
    "\t\n",
    "2) Are people for whom English is not their first language (ENG_FIRST_LANGUAGE) significantly more worried about this class than those for whom English was their first language?\n"
   ]
  },
  {
   "cell_type": "markdown",
   "metadata": {},
   "source": [
    "# Q2.1"
   ]
  },
  {
   "cell_type": "code",
   "execution_count": 8,
   "metadata": {},
   "outputs": [
    {
     "data": {
      "text/html": [
       "<table>\n",
       "<thead><tr><th scope=col>Timestamp</th><th scope=col>BA_MATH</th><th scope=col>ENG_FIRST_LANGUAGE</th><th scope=col>WORRIED</th><th scope=col>HOURS_DEDICATED_TO_COURSE</th></tr></thead>\n",
       "<tbody>\n",
       "\t<tr><td>8/24/2019 12:59:50</td><td>Yes               </td><td>No                </td><td>No                </td><td>110               </td></tr>\n",
       "\t<tr><td>8/24/2019 13:00:39</td><td>No                </td><td>No                </td><td>No                </td><td> 35               </td></tr>\n",
       "\t<tr><td>8/24/2019 13:02:07</td><td>No                </td><td>No                </td><td>Yes               </td><td> 10               </td></tr>\n",
       "\t<tr><td>8/24/2019 13:05:15</td><td>Yes               </td><td>Yes               </td><td>No                </td><td> 20               </td></tr>\n",
       "\t<tr><td>8/24/2019 13:07:19</td><td>No                </td><td>No                </td><td>No                </td><td> 50               </td></tr>\n",
       "\t<tr><td>8/24/2019 13:11:22</td><td>Yes               </td><td>No                </td><td>No                </td><td> 50               </td></tr>\n",
       "</tbody>\n",
       "</table>\n"
      ],
      "text/latex": [
       "\\begin{tabular}{r|lllll}\n",
       " Timestamp & BA\\_MATH & ENG\\_FIRST\\_LANGUAGE & WORRIED & HOURS\\_DEDICATED\\_TO\\_COURSE\\\\\n",
       "\\hline\n",
       "\t 8/24/2019 12:59:50 & Yes                & No                 & No                 & 110               \\\\\n",
       "\t 8/24/2019 13:00:39 & No                 & No                 & No                 &  35               \\\\\n",
       "\t 8/24/2019 13:02:07 & No                 & No                 & Yes                &  10               \\\\\n",
       "\t 8/24/2019 13:05:15 & Yes                & Yes                & No                 &  20               \\\\\n",
       "\t 8/24/2019 13:07:19 & No                 & No                 & No                 &  50               \\\\\n",
       "\t 8/24/2019 13:11:22 & Yes                & No                 & No                 &  50               \\\\\n",
       "\\end{tabular}\n"
      ],
      "text/markdown": [
       "\n",
       "| Timestamp | BA_MATH | ENG_FIRST_LANGUAGE | WORRIED | HOURS_DEDICATED_TO_COURSE |\n",
       "|---|---|---|---|---|\n",
       "| 8/24/2019 12:59:50 | Yes                | No                 | No                 | 110                |\n",
       "| 8/24/2019 13:00:39 | No                 | No                 | No                 |  35                |\n",
       "| 8/24/2019 13:02:07 | No                 | No                 | Yes                |  10                |\n",
       "| 8/24/2019 13:05:15 | Yes                | Yes                | No                 |  20                |\n",
       "| 8/24/2019 13:07:19 | No                 | No                 | No                 |  50                |\n",
       "| 8/24/2019 13:11:22 | Yes                | No                 | No                 |  50                |\n",
       "\n"
      ],
      "text/plain": [
       "  Timestamp          BA_MATH ENG_FIRST_LANGUAGE WORRIED\n",
       "1 8/24/2019 12:59:50 Yes     No                 No     \n",
       "2 8/24/2019 13:00:39 No      No                 No     \n",
       "3 8/24/2019 13:02:07 No      No                 Yes    \n",
       "4 8/24/2019 13:05:15 Yes     Yes                No     \n",
       "5 8/24/2019 13:07:19 No      No                 No     \n",
       "6 8/24/2019 13:11:22 Yes     No                 No     \n",
       "  HOURS_DEDICATED_TO_COURSE\n",
       "1 110                      \n",
       "2  35                      \n",
       "3  10                      \n",
       "4  20                      \n",
       "5  50                      \n",
       "6  50                      "
      ]
     },
     "metadata": {},
     "output_type": "display_data"
    }
   ],
   "source": [
    "head(class)"
   ]
  },
  {
   "cell_type": "code",
   "execution_count": 9,
   "metadata": {},
   "outputs": [
    {
     "name": "stdout",
     "output_type": "stream",
     "text": [
      "\n",
      "   Cell Contents\n",
      "|-------------------------|\n",
      "|                   Count |\n",
      "| Chi-square contribution |\n",
      "|             Row Percent |\n",
      "|          Column Percent |\n",
      "|           Total Percent |\n",
      "|-------------------------|\n",
      "\n",
      "Total Observations in Table:  58 \n",
      "\n",
      "              | class$WORRIED \n",
      "class$BA_MATH |       No  |      Yes  | Row Total | \n",
      "--------------|-----------|-----------|-----------|\n",
      "           No |       19  |       15  |       34  | \n",
      "              |    0.112  |    0.171  |           | \n",
      "              |   55.882% |   44.118% |   58.621% | \n",
      "              |   54.286% |   65.217% |           | \n",
      "              |   32.759% |   25.862% |           | \n",
      "--------------|-----------|-----------|-----------|\n",
      "          Yes |       16  |        8  |       24  | \n",
      "              |    0.159  |    0.242  |           | \n",
      "              |   66.667% |   33.333% |   41.379% | \n",
      "              |   45.714% |   34.783% |           | \n",
      "              |   27.586% |   13.793% |           | \n",
      "--------------|-----------|-----------|-----------|\n",
      " Column Total |       35  |       23  |       58  | \n",
      "              |   60.345% |   39.655% |           | \n",
      "--------------|-----------|-----------|-----------|\n",
      "\n",
      " \n",
      "Statistics for All Table Factors\n",
      "\n",
      "\n",
      "Pearson's Chi-squared test \n",
      "------------------------------------------------------------\n",
      "Chi^2 =  0.6837657     d.f. =  1     p =  0.408293 \n",
      "\n",
      "Pearson's Chi-squared test with Yates' continuity correction \n",
      "------------------------------------------------------------\n",
      "Chi^2 =  0.307359     d.f. =  1     p =  0.5793053 \n",
      "\n",
      " \n",
      "       Minimum expected frequency: 9.517241 \n",
      "\n"
     ]
    }
   ],
   "source": [
    "CrossTable(class$BA_MATH, class$WORRIED, fisher = F, chisq = TRUE,\n",
    "expected = F, sresid = F, format = \"SPSS\")"
   ]
  },
  {
   "cell_type": "code",
   "execution_count": 10,
   "metadata": {},
   "outputs": [
    {
     "name": "stdout",
     "output_type": "stream",
     "text": [
      "\n",
      "   Cell Contents\n",
      "|-------------------------|\n",
      "|                   Count |\n",
      "| Chi-square contribution |\n",
      "|             Row Percent |\n",
      "|          Column Percent |\n",
      "|           Total Percent |\n",
      "|-------------------------|\n",
      "\n",
      "Total Observations in Table:  58 \n",
      "\n",
      "                         | class$WORRIED \n",
      "class$ENG_FIRST_LANGUAGE |       No  |      Yes  | Row Total | \n",
      "-------------------------|-----------|-----------|-----------|\n",
      "                      No |       28  |       20  |       48  | \n",
      "                         |    0.032  |    0.049  |           | \n",
      "                         |   58.333% |   41.667% |   82.759% | \n",
      "                         |   80.000% |   86.957% |           | \n",
      "                         |   48.276% |   34.483% |           | \n",
      "-------------------------|-----------|-----------|-----------|\n",
      "                     Yes |        7  |        3  |       10  | \n",
      "                         |    0.154  |    0.235  |           | \n",
      "                         |   70.000% |   30.000% |   17.241% | \n",
      "                         |   20.000% |   13.043% |           | \n",
      "                         |   12.069% |    5.172% |           | \n",
      "-------------------------|-----------|-----------|-----------|\n",
      "            Column Total |       35  |       23  |       58  | \n",
      "                         |   60.345% |   39.655% |           | \n",
      "-------------------------|-----------|-----------|-----------|\n",
      "\n",
      " \n",
      "Fisher's Exact Test for Count Data\n",
      "------------------------------------------------------------\n",
      "Sample estimate odds ratio:  0.605103 \n",
      "\n",
      "Alternative hypothesis: true odds ratio is not equal to 1\n",
      "p =  0.7245453 \n",
      "95% confidence interval:  0.08997399 3.066829 \n",
      "\n",
      "Alternative hypothesis: true odds ratio is less than 1\n",
      "p =  0.3769918 \n",
      "95% confidence interval:  0 2.475288 \n",
      "\n",
      "Alternative hypothesis: true odds ratio is greater than 1\n",
      "p =  0.851242 \n",
      "95% confidence interval:  0.1212203 Inf \n",
      "\n",
      "\n",
      " \n",
      "       Minimum expected frequency: 3.965517 \n",
      "Cells with Expected Frequency < 5: 1 of 4 (25%)\n",
      "\n"
     ]
    }
   ],
   "source": [
    "CrossTable(class$ENG_FIRST_LANGUAGE, class$WORRIED, fisher = T, chisq = F,\n",
    "expected = F, sresid = F, format = \"SPSS\")"
   ]
  },
  {
   "cell_type": "markdown",
   "metadata": {},
   "source": [
    "# Q3"
   ]
  },
  {
   "cell_type": "code",
   "execution_count": 11,
   "metadata": {},
   "outputs": [],
   "source": [
    "alien <- read.csv('FINAL_DATA_ALIEN_FRISBEE_BALL_IM.csv')"
   ]
  },
  {
   "cell_type": "code",
   "execution_count": 12,
   "metadata": {},
   "outputs": [],
   "source": [
    "alien$yarksMadePercentage <- alien$yarksMade / alien$yarksAttempted\n",
    "alien[is.nan(alien$yarksMadePercentage), 'yarksMadePercentage'] <- 0\n",
    "alien <- alien[, !colnames(alien) %in% c('yarksMade', 'yarksAttempted')]"
   ]
  },
  {
   "cell_type": "code",
   "execution_count": 13,
   "metadata": {},
   "outputs": [
    {
     "data": {
      "text/html": [
       "<table>\n",
       "<thead><tr><th></th><th scope=col>yeps</th><th scope=col>yarps</th><th scope=col>yebbles</th><th scope=col>fouls</th><th scope=col>yarksMadePercentage</th></tr></thead>\n",
       "<tbody>\n",
       "\t<tr><th scope=row>yeps</th><td>1.0000000</td><td>0.5030468</td><td>0.9991674</td><td>0.5300288</td><td>0.3409981</td></tr>\n",
       "\t<tr><th scope=row>yarps</th><td>0.5030468</td><td>1.0000000</td><td>0.5035538</td><td>0.5406550</td><td>0.3046552</td></tr>\n",
       "\t<tr><th scope=row>yebbles</th><td>0.9991674</td><td>0.5035538</td><td>1.0000000</td><td>0.5301532</td><td>0.3413779</td></tr>\n",
       "\t<tr><th scope=row>fouls</th><td>0.5300288</td><td>0.5406550</td><td>0.5301532</td><td>1.0000000</td><td>0.2958001</td></tr>\n",
       "\t<tr><th scope=row>yarksMadePercentage</th><td>0.3409981</td><td>0.3046552</td><td>0.3413779</td><td>0.2958001</td><td>1.0000000</td></tr>\n",
       "</tbody>\n",
       "</table>\n"
      ],
      "text/latex": [
       "\\begin{tabular}{r|lllll}\n",
       "  & yeps & yarps & yebbles & fouls & yarksMadePercentage\\\\\n",
       "\\hline\n",
       "\tyeps & 1.0000000 & 0.5030468 & 0.9991674 & 0.5300288 & 0.3409981\\\\\n",
       "\tyarps & 0.5030468 & 1.0000000 & 0.5035538 & 0.5406550 & 0.3046552\\\\\n",
       "\tyebbles & 0.9991674 & 0.5035538 & 1.0000000 & 0.5301532 & 0.3413779\\\\\n",
       "\tfouls & 0.5300288 & 0.5406550 & 0.5301532 & 1.0000000 & 0.2958001\\\\\n",
       "\tyarksMadePercentage & 0.3409981 & 0.3046552 & 0.3413779 & 0.2958001 & 1.0000000\\\\\n",
       "\\end{tabular}\n"
      ],
      "text/markdown": [
       "\n",
       "| <!--/--> | yeps | yarps | yebbles | fouls | yarksMadePercentage |\n",
       "|---|---|---|---|---|---|\n",
       "| yeps | 1.0000000 | 0.5030468 | 0.9991674 | 0.5300288 | 0.3409981 |\n",
       "| yarps | 0.5030468 | 1.0000000 | 0.5035538 | 0.5406550 | 0.3046552 |\n",
       "| yebbles | 0.9991674 | 0.5035538 | 1.0000000 | 0.5301532 | 0.3413779 |\n",
       "| fouls | 0.5300288 | 0.5406550 | 0.5301532 | 1.0000000 | 0.2958001 |\n",
       "| yarksMadePercentage | 0.3409981 | 0.3046552 | 0.3413779 | 0.2958001 | 1.0000000 |\n",
       "\n"
      ],
      "text/plain": [
       "                    yeps      yarps     yebbles   fouls     yarksMadePercentage\n",
       "yeps                1.0000000 0.5030468 0.9991674 0.5300288 0.3409981          \n",
       "yarps               0.5030468 1.0000000 0.5035538 0.5406550 0.3046552          \n",
       "yebbles             0.9991674 0.5035538 1.0000000 0.5301532 0.3413779          \n",
       "fouls               0.5300288 0.5406550 0.5301532 1.0000000 0.2958001          \n",
       "yarksMadePercentage 0.3409981 0.3046552 0.3413779 0.2958001 1.0000000          "
      ]
     },
     "metadata": {},
     "output_type": "display_data"
    }
   ],
   "source": [
    "cor(alien)"
   ]
  },
  {
   "cell_type": "code",
   "execution_count": 54,
   "metadata": {},
   "outputs": [
    {
     "data": {
      "text/plain": [
       "\n",
       "Call:\n",
       "lm(formula = yarksMadePercentage ~ yeps + yarps + yebbles + fouls, \n",
       "    data = alien)\n",
       "\n",
       "Residuals:\n",
       "     Min       1Q   Median       3Q      Max \n",
       "-0.34046 -0.09944  0.00097  0.09670  0.25842 \n",
       "\n",
       "Coefficients:\n",
       "              Estimate Std. Error t value Pr(>|t|)    \n",
       "(Intercept) -0.2616363  0.2359397  -1.109 0.267736    \n",
       "yeps        -0.0006588  0.0067039  -0.098 0.921735    \n",
       "yarps        0.0035278  0.0009297   3.795 0.000157 ***\n",
       "yebbles      0.0045224  0.0113775   0.397 0.691095    \n",
       "fouls        0.0017399  0.0006055   2.873 0.004147 ** \n",
       "---\n",
       "Signif. codes:  0 '***' 0.001 '**' 0.01 '*' 0.05 '.' 0.1 ' ' 1\n",
       "\n",
       "Residual standard error: 0.1218 on 995 degrees of freedom\n",
       "Multiple R-squared:  0.1472,\tAdjusted R-squared:  0.1438 \n",
       "F-statistic: 42.95 on 4 and 995 DF,  p-value: < 2.2e-16\n"
      ]
     },
     "metadata": {},
     "output_type": "display_data"
    },
    {
     "data": {
      "text/html": [
       "-1366.64967951534"
      ],
      "text/latex": [
       "-1366.64967951534"
      ],
      "text/markdown": [
       "-1366.64967951534"
      ],
      "text/plain": [
       "[1] -1366.65"
      ]
     },
     "metadata": {},
     "output_type": "display_data"
    }
   ],
   "source": [
    "m1 <- lm(yarksMadePercentage ~ yeps + yarps + yebbles + fouls, data = alien)\n",
    "summary(m1)\n",
    "AIC(m1)"
   ]
  },
  {
   "cell_type": "code",
   "execution_count": 53,
   "metadata": {},
   "outputs": [
    {
     "data": {
      "text/plain": [
       "\n",
       "Call:\n",
       "lm(formula = yarksMadePercentage ~ yeps + yarps + fouls, data = alien)\n",
       "\n",
       "Residuals:\n",
       "     Min       1Q   Median       3Q      Max \n",
       "-0.34250 -0.09947  0.00112  0.09722  0.25971 \n",
       "\n",
       "Coefficients:\n",
       "              Estimate Std. Error t value Pr(>|t|)    \n",
       "(Intercept) -0.1691058  0.0384095  -4.403 1.18e-05 ***\n",
       "yeps         0.0020025  0.0003383   5.919 4.46e-09 ***\n",
       "yarps        0.0035358  0.0009291   3.806  0.00015 ***\n",
       "fouls        0.0017416  0.0006052   2.878  0.00409 ** \n",
       "---\n",
       "Signif. codes:  0 '***' 0.001 '**' 0.01 '*' 0.05 '.' 0.1 ' ' 1\n",
       "\n",
       "Residual standard error: 0.1217 on 996 degrees of freedom\n",
       "Multiple R-squared:  0.1471,\tAdjusted R-squared:  0.1445 \n",
       "F-statistic: 57.26 on 3 and 996 DF,  p-value: < 2.2e-16\n"
      ]
     },
     "metadata": {},
     "output_type": "display_data"
    },
    {
     "data": {
      "text/html": [
       "-1368.49090346779"
      ],
      "text/latex": [
       "-1368.49090346779"
      ],
      "text/markdown": [
       "-1368.49090346779"
      ],
      "text/plain": [
       "[1] -1368.491"
      ]
     },
     "metadata": {},
     "output_type": "display_data"
    }
   ],
   "source": [
    "m21 <- lm(yarksMadePercentage ~ yeps + yarps + fouls, data = alien)\n",
    "summary(m21)\n",
    "AIC(m21)"
   ]
  },
  {
   "cell_type": "code",
   "execution_count": 55,
   "metadata": {},
   "outputs": [
    {
     "data": {
      "text/plain": [
       "\n",
       "Call:\n",
       "lm(formula = yarksMadePercentage ~ yebbles + yarps + fouls, data = alien)\n",
       "\n",
       "Residuals:\n",
       "     Min       1Q   Median       3Q      Max \n",
       "-0.34097 -0.09948  0.00104  0.09681  0.25871 \n",
       "\n",
       "Coefficients:\n",
       "              Estimate Std. Error t value Pr(>|t|)    \n",
       "(Intercept) -0.2387497  0.0378049  -6.315 4.06e-10 ***\n",
       "yebbles      0.0034057  0.0005742   5.932 4.13e-09 ***\n",
       "yarps        0.0035284  0.0009292   3.797 0.000155 ***\n",
       "fouls        0.0017392  0.0006052   2.874 0.004140 ** \n",
       "---\n",
       "Signif. codes:  0 '***' 0.001 '**' 0.01 '*' 0.05 '.' 0.1 ' ' 1\n",
       "\n",
       "Residual standard error: 0.1217 on 996 degrees of freedom\n",
       "Multiple R-squared:  0.1472,\tAdjusted R-squared:  0.1447 \n",
       "F-statistic: 57.32 on 3 and 996 DF,  p-value: < 2.2e-16\n"
      ]
     },
     "metadata": {},
     "output_type": "display_data"
    },
    {
     "data": {
      "text/html": [
       "-1368.63997347651"
      ],
      "text/latex": [
       "-1368.63997347651"
      ],
      "text/markdown": [
       "-1368.63997347651"
      ],
      "text/plain": [
       "[1] -1368.64"
      ]
     },
     "metadata": {},
     "output_type": "display_data"
    }
   ],
   "source": [
    "m22 <- lm(yarksMadePercentage ~ yebbles + yarps + fouls, data = alien)\n",
    "summary(m22)\n",
    "AIC(m22)"
   ]
  },
  {
   "cell_type": "code",
   "execution_count": 17,
   "metadata": {},
   "outputs": [
    {
     "data": {
      "text/html": [
       "<table>\n",
       "<thead><tr><th scope=col>Res.Df</th><th scope=col>RSS</th><th scope=col>Df</th><th scope=col>Sum of Sq</th><th scope=col>F</th><th scope=col>Pr(&gt;F)</th></tr></thead>\n",
       "<tbody>\n",
       "\t<tr><td>995         </td><td>14.74979    </td><td>NA          </td><td>          NA</td><td>       NA   </td><td>       NA   </td></tr>\n",
       "\t<tr><td>996         </td><td>14.75213    </td><td>-1          </td><td>-0.002342099</td><td>0.1579947   </td><td>0.6910947   </td></tr>\n",
       "</tbody>\n",
       "</table>\n"
      ],
      "text/latex": [
       "\\begin{tabular}{r|llllll}\n",
       " Res.Df & RSS & Df & Sum of Sq & F & Pr(>F)\\\\\n",
       "\\hline\n",
       "\t 995          & 14.74979     & NA           &           NA &        NA    &        NA   \\\\\n",
       "\t 996          & 14.75213     & -1           & -0.002342099 & 0.1579947    & 0.6910947   \\\\\n",
       "\\end{tabular}\n"
      ],
      "text/markdown": [
       "\n",
       "| Res.Df | RSS | Df | Sum of Sq | F | Pr(>F) |\n",
       "|---|---|---|---|---|---|\n",
       "| 995          | 14.74979     | NA           |           NA |        NA    |        NA    |\n",
       "| 996          | 14.75213     | -1           | -0.002342099 | 0.1579947    | 0.6910947    |\n",
       "\n"
      ],
      "text/plain": [
       "  Res.Df RSS      Df Sum of Sq    F         Pr(>F)   \n",
       "1 995    14.74979 NA           NA        NA        NA\n",
       "2 996    14.75213 -1 -0.002342099 0.1579947 0.6910947"
      ]
     },
     "metadata": {},
     "output_type": "display_data"
    },
    {
     "data": {
      "text/html": [
       "<table>\n",
       "<thead><tr><th scope=col>Res.Df</th><th scope=col>RSS</th><th scope=col>Df</th><th scope=col>Sum of Sq</th><th scope=col>F</th><th scope=col>Pr(&gt;F)</th></tr></thead>\n",
       "<tbody>\n",
       "\t<tr><td>995          </td><td>14.74979     </td><td>NA           </td><td>           NA</td><td>         NA  </td><td>       NA    </td></tr>\n",
       "\t<tr><td>996          </td><td>14.74993     </td><td>-1           </td><td>-0.0001431627</td><td>0.009657556  </td><td>0.9217354    </td></tr>\n",
       "</tbody>\n",
       "</table>\n"
      ],
      "text/latex": [
       "\\begin{tabular}{r|llllll}\n",
       " Res.Df & RSS & Df & Sum of Sq & F & Pr(>F)\\\\\n",
       "\\hline\n",
       "\t 995           & 14.74979      & NA            &            NA &          NA   &        NA    \\\\\n",
       "\t 996           & 14.74993      & -1            & -0.0001431627 & 0.009657556   & 0.9217354    \\\\\n",
       "\\end{tabular}\n"
      ],
      "text/markdown": [
       "\n",
       "| Res.Df | RSS | Df | Sum of Sq | F | Pr(>F) |\n",
       "|---|---|---|---|---|---|\n",
       "| 995           | 14.74979      | NA            |            NA |          NA   |        NA     |\n",
       "| 996           | 14.74993      | -1            | -0.0001431627 | 0.009657556   | 0.9217354     |\n",
       "\n"
      ],
      "text/plain": [
       "  Res.Df RSS      Df Sum of Sq     F           Pr(>F)   \n",
       "1 995    14.74979 NA            NA          NA        NA\n",
       "2 996    14.74993 -1 -0.0001431627 0.009657556 0.9217354"
      ]
     },
     "metadata": {},
     "output_type": "display_data"
    },
    {
     "data": {
      "text/html": [
       "<table>\n",
       "<thead><tr><th scope=col>Res.Df</th><th scope=col>RSS</th><th scope=col>Df</th><th scope=col>Sum of Sq</th><th scope=col>F</th><th scope=col>Pr(&gt;F)</th></tr></thead>\n",
       "<tbody>\n",
       "\t<tr><td>996        </td><td>14.75213   </td><td>NA         </td><td>         NA</td><td>NA         </td><td>NA         </td></tr>\n",
       "\t<tr><td>996        </td><td>14.74993   </td><td> 0         </td><td>0.002198936</td><td>NA         </td><td>NA         </td></tr>\n",
       "</tbody>\n",
       "</table>\n"
      ],
      "text/latex": [
       "\\begin{tabular}{r|llllll}\n",
       " Res.Df & RSS & Df & Sum of Sq & F & Pr(>F)\\\\\n",
       "\\hline\n",
       "\t 996         & 14.75213    & NA          &          NA & NA          & NA         \\\\\n",
       "\t 996         & 14.74993    &  0          & 0.002198936 & NA          & NA         \\\\\n",
       "\\end{tabular}\n"
      ],
      "text/markdown": [
       "\n",
       "| Res.Df | RSS | Df | Sum of Sq | F | Pr(>F) |\n",
       "|---|---|---|---|---|---|\n",
       "| 996         | 14.75213    | NA          |          NA | NA          | NA          |\n",
       "| 996         | 14.74993    |  0          | 0.002198936 | NA          | NA          |\n",
       "\n"
      ],
      "text/plain": [
       "  Res.Df RSS      Df Sum of Sq   F  Pr(>F)\n",
       "1 996    14.75213 NA          NA NA NA    \n",
       "2 996    14.74993  0 0.002198936 NA NA    "
      ]
     },
     "metadata": {},
     "output_type": "display_data"
    }
   ],
   "source": [
    "anova(m1,m21)\n",
    "anova(m1,m22)\n",
    "anova(m21,m22)"
   ]
  },
  {
   "cell_type": "code",
   "execution_count": 18,
   "metadata": {},
   "outputs": [],
   "source": [
    "linearRegressionAsumptionsCheck <- function(model){\n",
    "    pass <- T\n",
    "    if(dwt(model)$p < .05){\n",
    "        cat('D-W VIOLATED!\\n')\n",
    "        pass <- F\n",
    "    }\n",
    "\n",
    "    if(length(model$coefficients) > 2){\n",
    "        if(length(colnames(vif(model))) > 0){\n",
    "           vif <- vif(model)[,'GVIF']\n",
    "        }\n",
    "        else {\n",
    "           vif <- vif(model)\n",
    "        }\n",
    "        if(mean(vif) > 1.1){\n",
    "            cat('NON-COLINEARITY MAY BE VIOLATED!\\n')\n",
    "            cat(vif,'\\n')\n",
    "            cat('Average:', mean(vif),'\\n')\n",
    "            pass <- F\n",
    "        }\n",
    "        if(any(vif > 10)){\n",
    "            cat('NON-COLINEARITY VIOLATED!\\n')\n",
    "            pass <- F\n",
    "        }\n",
    "\n",
    "        if(any(1 / vif < .2)){\n",
    "            cat('TOLERANCE IS VIOLATED!\\n')\n",
    "            pass <- F\n",
    "        }\n",
    "    }\n",
    "    return(pass)\n",
    "}"
   ]
  },
  {
   "cell_type": "code",
   "execution_count": 19,
   "metadata": {},
   "outputs": [
    {
     "name": "stdout",
     "output_type": "stream",
     "text": [
      "NON-COLINEARITY MAY BE VIOLATED!\n",
      "1.532695 1.55705 1.6166 \n",
      "Average: 1.568782 \n"
     ]
    },
    {
     "data": {
      "text/html": [
       "FALSE"
      ],
      "text/latex": [
       "FALSE"
      ],
      "text/markdown": [
       "FALSE"
      ],
      "text/plain": [
       "[1] FALSE"
      ]
     },
     "metadata": {},
     "output_type": "display_data"
    }
   ],
   "source": [
    "linearRegressionAsumptionsCheck(m22)"
   ]
  },
  {
   "cell_type": "code",
   "execution_count": 20,
   "metadata": {},
   "outputs": [
    {
     "data": {
      "image/png": "[encoded data removed]",
      "text/plain": [
       "Plot with title \"Histogram of rstudent(m22)\""
      ]
     },
     "metadata": {},
     "output_type": "display_data"
    }
   ],
   "source": [
    "par(mfrow=c(1,3))\n",
    "plot(m22, which=1:2)\n",
    "hist(rstudent(m22))\n",
    "par(mfrow=c(1,1))"
   ]
  },
  {
   "cell_type": "code",
   "execution_count": 21,
   "metadata": {},
   "outputs": [
    {
     "data": {
      "text/html": [
       "<table>\n",
       "<thead><tr><th></th><th scope=col>yeps</th><th scope=col>yarps</th><th scope=col>yebbles</th><th scope=col>fouls</th><th scope=col>yarksMadePercentage</th></tr></thead>\n",
       "<tbody>\n",
       "\t<tr><th scope=row>yeps</th><td>1.0000000</td><td>0.5030468</td><td>0.9991674</td><td>0.5300288</td><td>0.3409981</td></tr>\n",
       "\t<tr><th scope=row>yarps</th><td>0.5030468</td><td>1.0000000</td><td>0.5035538</td><td>0.5406550</td><td>0.3046552</td></tr>\n",
       "\t<tr><th scope=row>yebbles</th><td>0.9991674</td><td>0.5035538</td><td>1.0000000</td><td>0.5301532</td><td>0.3413779</td></tr>\n",
       "\t<tr><th scope=row>fouls</th><td>0.5300288</td><td>0.5406550</td><td>0.5301532</td><td>1.0000000</td><td>0.2958001</td></tr>\n",
       "\t<tr><th scope=row>yarksMadePercentage</th><td>0.3409981</td><td>0.3046552</td><td>0.3413779</td><td>0.2958001</td><td>1.0000000</td></tr>\n",
       "</tbody>\n",
       "</table>\n"
      ],
      "text/latex": [
       "\\begin{tabular}{r|lllll}\n",
       "  & yeps & yarps & yebbles & fouls & yarksMadePercentage\\\\\n",
       "\\hline\n",
       "\tyeps & 1.0000000 & 0.5030468 & 0.9991674 & 0.5300288 & 0.3409981\\\\\n",
       "\tyarps & 0.5030468 & 1.0000000 & 0.5035538 & 0.5406550 & 0.3046552\\\\\n",
       "\tyebbles & 0.9991674 & 0.5035538 & 1.0000000 & 0.5301532 & 0.3413779\\\\\n",
       "\tfouls & 0.5300288 & 0.5406550 & 0.5301532 & 1.0000000 & 0.2958001\\\\\n",
       "\tyarksMadePercentage & 0.3409981 & 0.3046552 & 0.3413779 & 0.2958001 & 1.0000000\\\\\n",
       "\\end{tabular}\n"
      ],
      "text/markdown": [
       "\n",
       "| <!--/--> | yeps | yarps | yebbles | fouls | yarksMadePercentage |\n",
       "|---|---|---|---|---|---|\n",
       "| yeps | 1.0000000 | 0.5030468 | 0.9991674 | 0.5300288 | 0.3409981 |\n",
       "| yarps | 0.5030468 | 1.0000000 | 0.5035538 | 0.5406550 | 0.3046552 |\n",
       "| yebbles | 0.9991674 | 0.5035538 | 1.0000000 | 0.5301532 | 0.3413779 |\n",
       "| fouls | 0.5300288 | 0.5406550 | 0.5301532 | 1.0000000 | 0.2958001 |\n",
       "| yarksMadePercentage | 0.3409981 | 0.3046552 | 0.3413779 | 0.2958001 | 1.0000000 |\n",
       "\n"
      ],
      "text/plain": [
       "                    yeps      yarps     yebbles   fouls     yarksMadePercentage\n",
       "yeps                1.0000000 0.5030468 0.9991674 0.5300288 0.3409981          \n",
       "yarps               0.5030468 1.0000000 0.5035538 0.5406550 0.3046552          \n",
       "yebbles             0.9991674 0.5035538 1.0000000 0.5301532 0.3413779          \n",
       "fouls               0.5300288 0.5406550 0.5301532 1.0000000 0.2958001          \n",
       "yarksMadePercentage 0.3409981 0.3046552 0.3413779 0.2958001 1.0000000          "
      ]
     },
     "metadata": {},
     "output_type": "display_data"
    }
   ],
   "source": [
    "cor(alien)"
   ]
  },
  {
   "cell_type": "code",
   "execution_count": 22,
   "metadata": {
    "scrolled": true
   },
   "outputs": [
    {
     "data": {
      "image/png": "[encoded data removed]",
      "text/plain": [
       "plot without title"
      ]
     },
     "metadata": {},
     "output_type": "display_data"
    }
   ],
   "source": [
    "plot(alien$yebbles, alien$yeps)"
   ]
  },
  {
   "cell_type": "code",
   "execution_count": 23,
   "metadata": {},
   "outputs": [
    {
     "data": {
      "text/plain": [
       "\n",
       "Call:\n",
       "lm(formula = yarksMadePercentage ~ yarps, data = alien)\n",
       "\n",
       "Residuals:\n",
       "      Min        1Q    Median        3Q       Max \n",
       "-0.315681 -0.104856 -0.001844  0.096294  0.305746 \n",
       "\n",
       "Coefficients:\n",
       "              Estimate Std. Error t value Pr(>|t|)    \n",
       "(Intercept) -0.1928492  0.0384947   -5.01 6.44e-07 ***\n",
       "yarps        0.0077533  0.0007673   10.11  < 2e-16 ***\n",
       "---\n",
       "Signif. codes:  0 '***' 0.001 '**' 0.01 '*' 0.05 '.' 0.1 ' ' 1\n",
       "\n",
       "Residual standard error: 0.1254 on 998 degrees of freedom\n",
       "Multiple R-squared:  0.09281,\tAdjusted R-squared:  0.09191 \n",
       "F-statistic: 102.1 on 1 and 998 DF,  p-value: < 2.2e-16\n"
      ]
     },
     "metadata": {},
     "output_type": "display_data"
    }
   ],
   "source": [
    "m3 <- lm(yarksMadePercentage ~ yarps, data = alien)\n",
    "summary(m3)"
   ]
  },
  {
   "cell_type": "code",
   "execution_count": 24,
   "metadata": {},
   "outputs": [
    {
     "data": {
      "text/plain": [
       "\n",
       "Call:\n",
       "lm(formula = yarksMadePercentage ~ yebbles + yarps + fouls, data = alien)\n",
       "\n",
       "Residuals:\n",
       "     Min       1Q   Median       3Q      Max \n",
       "-0.34097 -0.09948  0.00104  0.09681  0.25871 \n",
       "\n",
       "Coefficients:\n",
       "              Estimate Std. Error t value Pr(>|t|)    \n",
       "(Intercept) -0.2387497  0.0378049  -6.315 4.06e-10 ***\n",
       "yebbles      0.0034057  0.0005742   5.932 4.13e-09 ***\n",
       "yarps        0.0035284  0.0009292   3.797 0.000155 ***\n",
       "fouls        0.0017392  0.0006052   2.874 0.004140 ** \n",
       "---\n",
       "Signif. codes:  0 '***' 0.001 '**' 0.01 '*' 0.05 '.' 0.1 ' ' 1\n",
       "\n",
       "Residual standard error: 0.1217 on 996 degrees of freedom\n",
       "Multiple R-squared:  0.1472,\tAdjusted R-squared:  0.1447 \n",
       "F-statistic: 57.32 on 3 and 996 DF,  p-value: < 2.2e-16\n"
      ]
     },
     "metadata": {},
     "output_type": "display_data"
    }
   ],
   "source": [
    "summary(m22)"
   ]
  },
  {
   "cell_type": "code",
   "execution_count": null,
   "metadata": {},
   "outputs": [],
   "source": []
  },
  {
   "cell_type": "markdown",
   "metadata": {},
   "source": [
    "# Q4\n",
    "1. Create the best model possible to predict ADMITTED. Include the describe the final model and the model that came before it and include R^squared and significance of all variables used in final model. Use the example above for answer format. Report McFadden's R squared. \n",
    "\t\n",
    "1. Create a correlation matrix and report significant correlations on the data set."
   ]
  },
  {
   "cell_type": "code",
   "execution_count": 25,
   "metadata": {},
   "outputs": [
    {
     "name": "stderr",
     "output_type": "stream",
     "text": [
      "Registered S3 method overwritten by 'DescTools':\n",
      "  method         from \n",
      "  reorder.factor gdata\n",
      "\n",
      "Attaching package: 'DescTools'\n",
      "\n",
      "The following object is masked from 'package:car':\n",
      "\n",
      "    Recode\n",
      "\n"
     ]
    }
   ],
   "source": [
    "library(DescTools)"
   ]
  },
  {
   "cell_type": "code",
   "execution_count": 26,
   "metadata": {},
   "outputs": [],
   "source": [
    "logisticPseudoR2s <- function(LogModel) {\n",
    "    dev <- LogModel$deviance \n",
    "    nullDev <- LogModel$null.deviance \n",
    "    modelN <-  length(LogModel$fitted.values)\n",
    "    R.l <-  1 -  dev / nullDev\n",
    "    R.cs <- 1 - exp ( -(nullDev - dev) / modelN)\n",
    "    R.n <- R.cs / ( 1 - ( exp (-(nullDev / modelN))))\n",
    "    cat(\"Pseudo R^2 for logistic regression\\n\")\n",
    "    cat(\"Hosmer and Lemeshow R^2\\t\", round(R.l, 3), \"\\n\")\n",
    "    cat(\"Cox and Snell R^2\\t\", round(R.cs, 3), \"\\n\")\n",
    "    cat(\"Nagelkerke R^2\\t\", round(R.n, 3), \"\\n\")\n",
    "}"
   ]
  },
  {
   "cell_type": "code",
   "execution_count": 27,
   "metadata": {},
   "outputs": [],
   "source": [
    "admitting <- read.csv('Final_Data_University_IM.csv')\n",
    "# admitting$ADMITTED <- as.factor(admitting$ADMITTED)\n",
    "# admitting$CRIMINAL_RECORD <- as.factor(admitting$CRIMINAL_RECORD)"
   ]
  },
  {
   "cell_type": "code",
   "execution_count": 28,
   "metadata": {},
   "outputs": [
    {
     "data": {
      "text/html": [
       "<table>\n",
       "<thead><tr><th scope=col>GPA</th><th scope=col>HOURS_STUDIED_FOR_ENRANCE_EXAM</th><th scope=col>GRE</th><th scope=col>RACE</th><th scope=col>CRIMINAL_RECORD</th><th scope=col>ADMITTED</th></tr></thead>\n",
       "<tbody>\n",
       "\t<tr><td>2.80 </td><td>50   </td><td>264  </td><td>Human</td><td>0    </td><td>0    </td></tr>\n",
       "\t<tr><td>2.80 </td><td>50   </td><td>260  </td><td>Dwarf</td><td>1    </td><td>0    </td></tr>\n",
       "\t<tr><td>3.28 </td><td>59   </td><td>337  </td><td>Human</td><td>0    </td><td>1    </td></tr>\n",
       "\t<tr><td>2.80 </td><td>50   </td><td>287  </td><td>Elf  </td><td>0    </td><td>0    </td></tr>\n",
       "\t<tr><td>2.80 </td><td>44   </td><td>281  </td><td>Elf  </td><td>0    </td><td>0    </td></tr>\n",
       "\t<tr><td>2.90 </td><td>51   </td><td>270  </td><td>Elf  </td><td>0    </td><td>0    </td></tr>\n",
       "</tbody>\n",
       "</table>\n"
      ],
      "text/latex": [
       "\\begin{tabular}{r|llllll}\n",
       " GPA & HOURS\\_STUDIED\\_FOR\\_ENRANCE\\_EXAM & GRE & RACE & CRIMINAL\\_RECORD & ADMITTED\\\\\n",
       "\\hline\n",
       "\t 2.80  & 50    & 264   & Human & 0     & 0    \\\\\n",
       "\t 2.80  & 50    & 260   & Dwarf & 1     & 0    \\\\\n",
       "\t 3.28  & 59    & 337   & Human & 0     & 1    \\\\\n",
       "\t 2.80  & 50    & 287   & Elf   & 0     & 0    \\\\\n",
       "\t 2.80  & 44    & 281   & Elf   & 0     & 0    \\\\\n",
       "\t 2.90  & 51    & 270   & Elf   & 0     & 0    \\\\\n",
       "\\end{tabular}\n"
      ],
      "text/markdown": [
       "\n",
       "| GPA | HOURS_STUDIED_FOR_ENRANCE_EXAM | GRE | RACE | CRIMINAL_RECORD | ADMITTED |\n",
       "|---|---|---|---|---|---|\n",
       "| 2.80  | 50    | 264   | Human | 0     | 0     |\n",
       "| 2.80  | 50    | 260   | Dwarf | 1     | 0     |\n",
       "| 3.28  | 59    | 337   | Human | 0     | 1     |\n",
       "| 2.80  | 50    | 287   | Elf   | 0     | 0     |\n",
       "| 2.80  | 44    | 281   | Elf   | 0     | 0     |\n",
       "| 2.90  | 51    | 270   | Elf   | 0     | 0     |\n",
       "\n"
      ],
      "text/plain": [
       "  GPA  HOURS_STUDIED_FOR_ENRANCE_EXAM GRE RACE  CRIMINAL_RECORD ADMITTED\n",
       "1 2.80 50                             264 Human 0               0       \n",
       "2 2.80 50                             260 Dwarf 1               0       \n",
       "3 3.28 59                             337 Human 0               1       \n",
       "4 2.80 50                             287 Elf   0               0       \n",
       "5 2.80 44                             281 Elf   0               0       \n",
       "6 2.90 51                             270 Elf   0               0       "
      ]
     },
     "metadata": {},
     "output_type": "display_data"
    }
   ],
   "source": [
    "head(admitting)"
   ]
  },
  {
   "cell_type": "code",
   "execution_count": 29,
   "metadata": {},
   "outputs": [
    {
     "data": {
      "text/html": [
       "<table>\n",
       "<thead><tr><th></th><th scope=col>GPA</th><th scope=col>HOURS_STUDIED_FOR_ENRANCE_EXAM</th><th scope=col>GRE</th><th scope=col>CRIMINAL_RECORD</th><th scope=col>ADMITTED</th></tr></thead>\n",
       "<tbody>\n",
       "\t<tr><th scope=row>GPA</th><td> 1.0000000 </td><td> 0.58294291</td><td>0.64211360 </td><td>-0.13887496</td><td>0.63395574 </td></tr>\n",
       "\t<tr><th scope=row>HOURS_STUDIED_FOR_ENRANCE_EXAM</th><td> 0.5829429 </td><td> 1.00000000</td><td>0.60614508 </td><td>-0.01541482</td><td>0.55414461 </td></tr>\n",
       "\t<tr><th scope=row>GRE</th><td> 0.6421136 </td><td> 0.60614508</td><td>1.00000000 </td><td> 0.02011365</td><td>0.86548362 </td></tr>\n",
       "\t<tr><th scope=row>CRIMINAL_RECORD</th><td>-0.1388750 </td><td>-0.01541482</td><td>0.02011365 </td><td> 1.00000000</td><td>0.01387519 </td></tr>\n",
       "\t<tr><th scope=row>ADMITTED</th><td> 0.6339557 </td><td> 0.55414461</td><td>0.86548362 </td><td> 0.01387519</td><td>1.00000000 </td></tr>\n",
       "</tbody>\n",
       "</table>\n"
      ],
      "text/latex": [
       "\\begin{tabular}{r|lllll}\n",
       "  & GPA & HOURS\\_STUDIED\\_FOR\\_ENRANCE\\_EXAM & GRE & CRIMINAL\\_RECORD & ADMITTED\\\\\n",
       "\\hline\n",
       "\tGPA &  1.0000000  &  0.58294291 & 0.64211360  & -0.13887496 & 0.63395574 \\\\\n",
       "\tHOURS\\_STUDIED\\_FOR\\_ENRANCE\\_EXAM &  0.5829429  &  1.00000000 & 0.60614508  & -0.01541482 & 0.55414461 \\\\\n",
       "\tGRE &  0.6421136  &  0.60614508 & 1.00000000  &  0.02011365 & 0.86548362 \\\\\n",
       "\tCRIMINAL\\_RECORD & -0.1388750  & -0.01541482 & 0.02011365  &  1.00000000 & 0.01387519 \\\\\n",
       "\tADMITTED &  0.6339557  &  0.55414461 & 0.86548362  &  0.01387519 & 1.00000000 \\\\\n",
       "\\end{tabular}\n"
      ],
      "text/markdown": [
       "\n",
       "| <!--/--> | GPA | HOURS_STUDIED_FOR_ENRANCE_EXAM | GRE | CRIMINAL_RECORD | ADMITTED |\n",
       "|---|---|---|---|---|---|\n",
       "| GPA |  1.0000000  |  0.58294291 | 0.64211360  | -0.13887496 | 0.63395574  |\n",
       "| HOURS_STUDIED_FOR_ENRANCE_EXAM |  0.5829429  |  1.00000000 | 0.60614508  | -0.01541482 | 0.55414461  |\n",
       "| GRE |  0.6421136  |  0.60614508 | 1.00000000  |  0.02011365 | 0.86548362  |\n",
       "| CRIMINAL_RECORD | -0.1388750  | -0.01541482 | 0.02011365  |  1.00000000 | 0.01387519  |\n",
       "| ADMITTED |  0.6339557  |  0.55414461 | 0.86548362  |  0.01387519 | 1.00000000  |\n",
       "\n"
      ],
      "text/plain": [
       "                               GPA        HOURS_STUDIED_FOR_ENRANCE_EXAM\n",
       "GPA                             1.0000000  0.58294291                   \n",
       "HOURS_STUDIED_FOR_ENRANCE_EXAM  0.5829429  1.00000000                   \n",
       "GRE                             0.6421136  0.60614508                   \n",
       "CRIMINAL_RECORD                -0.1388750 -0.01541482                   \n",
       "ADMITTED                        0.6339557  0.55414461                   \n",
       "                               GRE        CRIMINAL_RECORD ADMITTED  \n",
       "GPA                            0.64211360 -0.13887496     0.63395574\n",
       "HOURS_STUDIED_FOR_ENRANCE_EXAM 0.60614508 -0.01541482     0.55414461\n",
       "GRE                            1.00000000  0.02011365     0.86548362\n",
       "CRIMINAL_RECORD                0.02011365  1.00000000     0.01387519\n",
       "ADMITTED                       0.86548362  0.01387519     1.00000000"
      ]
     },
     "metadata": {},
     "output_type": "display_data"
    }
   ],
   "source": [
    "cor(admitting[,-4])"
   ]
  },
  {
   "cell_type": "markdown",
   "metadata": {},
   "source": [
    "-----------------"
   ]
  },
  {
   "cell_type": "code",
   "execution_count": 30,
   "metadata": {},
   "outputs": [
    {
     "data": {
      "text/plain": [
       "\n",
       "Call:\n",
       "glm(formula = ADMITTED ~ HOURS_STUDIED_FOR_ENRANCE_EXAM + GPA + \n",
       "    GRE + CRIMINAL_RECORD, family = binomial(), data = admitting)\n",
       "\n",
       "Deviance Residuals: \n",
       "     Min        1Q    Median        3Q       Max  \n",
       "-2.38429  -0.00987  -0.00122  -0.00014   2.46679  \n",
       "\n",
       "Coefficients:\n",
       "                                 Estimate Std. Error z value Pr(>|z|)    \n",
       "(Intercept)                    -106.76247   16.90703  -6.315 2.71e-10 ***\n",
       "HOURS_STUDIED_FOR_ENRANCE_EXAM   -0.20524    0.10264  -2.000   0.0455 *  \n",
       "GPA                               1.56769    2.55575   0.613   0.5396    \n",
       "GRE                               0.36093    0.05894   6.124 9.12e-10 ***\n",
       "CRIMINAL_RECORD                  -2.14799    1.13936  -1.885   0.0594 .  \n",
       "---\n",
       "Signif. codes:  0 '***' 0.001 '**' 0.01 '*' 0.05 '.' 0.1 ' ' 1\n",
       "\n",
       "(Dispersion parameter for binomial family taken to be 1)\n",
       "\n",
       "    Null deviance: 1003.6  on 999  degrees of freedom\n",
       "Residual deviance:   85.2  on 995  degrees of freedom\n",
       "AIC: 95.2\n",
       "\n",
       "Number of Fisher Scoring iterations: 10\n"
      ]
     },
     "metadata": {},
     "output_type": "display_data"
    },
    {
     "data": {
      "text/html": [
       "<strong>McFadden:</strong> 0.915103315305659"
      ],
      "text/latex": [
       "\\textbf{McFadden:} 0.915103315305659"
      ],
      "text/markdown": [
       "**McFadden:** 0.915103315305659"
      ],
      "text/plain": [
       " McFadden \n",
       "0.9151033 "
      ]
     },
     "metadata": {},
     "output_type": "display_data"
    }
   ],
   "source": [
    "m1 <- glm(ADMITTED ~ HOURS_STUDIED_FOR_ENRANCE_EXAM + GPA + GRE + CRIMINAL_RECORD, \n",
    "          data = admitting, family = binomial())\n",
    "summary(m1)\n",
    "PseudoR2(m1, which = \"McFadden\")"
   ]
  },
  {
   "cell_type": "code",
   "execution_count": 31,
   "metadata": {},
   "outputs": [
    {
     "data": {
      "text/plain": [
       "\n",
       "Call:\n",
       "glm(formula = ADMITTED ~ HOURS_STUDIED_FOR_ENRANCE_EXAM + GPA + \n",
       "    GRE, family = binomial(), data = admitting)\n",
       "\n",
       "Deviance Residuals: \n",
       "     Min        1Q    Median        3Q       Max  \n",
       "-2.20792  -0.01409  -0.00208  -0.00034   2.49570  \n",
       "\n",
       "Coefficients:\n",
       "                                 Estimate Std. Error z value Pr(>|z|)    \n",
       "(Intercept)                    -103.19880   16.20103  -6.370 1.89e-10 ***\n",
       "HOURS_STUDIED_FOR_ENRANCE_EXAM   -0.18203    0.10135  -1.796   0.0725 .  \n",
       "GPA                               3.85225    2.50362   1.539   0.1239    \n",
       "GRE                               0.32317    0.04857   6.654 2.85e-11 ***\n",
       "---\n",
       "Signif. codes:  0 '***' 0.001 '**' 0.01 '*' 0.05 '.' 0.1 ' ' 1\n",
       "\n",
       "(Dispersion parameter for binomial family taken to be 1)\n",
       "\n",
       "    Null deviance: 1003.571  on 999  degrees of freedom\n",
       "Residual deviance:   88.887  on 996  degrees of freedom\n",
       "AIC: 96.887\n",
       "\n",
       "Number of Fisher Scoring iterations: 10\n"
      ]
     },
     "metadata": {},
     "output_type": "display_data"
    },
    {
     "data": {
      "text/html": [
       "<strong>McFadden:</strong> 0.911429196019789"
      ],
      "text/latex": [
       "\\textbf{McFadden:} 0.911429196019789"
      ],
      "text/markdown": [
       "**McFadden:** 0.911429196019789"
      ],
      "text/plain": [
       " McFadden \n",
       "0.9114292 "
      ]
     },
     "metadata": {},
     "output_type": "display_data"
    }
   ],
   "source": [
    "m2 <- glm(ADMITTED ~ HOURS_STUDIED_FOR_ENRANCE_EXAM + GPA + GRE, \n",
    "          data = admitting, family = binomial())\n",
    "summary(m2)\n",
    "PseudoR2(m2, which = \"McFadden\")"
   ]
  },
  {
   "cell_type": "code",
   "execution_count": 32,
   "metadata": {},
   "outputs": [
    {
     "data": {
      "text/plain": [
       "\n",
       "Call:\n",
       "glm(formula = ADMITTED ~ GPA + GRE, family = binomial(), data = admitting)\n",
       "\n",
       "Deviance Residuals: \n",
       "     Min        1Q    Median        3Q       Max  \n",
       "-2.04183  -0.01292  -0.00225  -0.00043   2.43974  \n",
       "\n",
       "Coefficients:\n",
       "              Estimate Std. Error z value Pr(>|z|)    \n",
       "(Intercept) -102.16295   15.74100  -6.490 8.57e-11 ***\n",
       "GPA            3.08841    2.41075   1.281      0.2    \n",
       "GRE            0.29621    0.04257   6.958 3.45e-12 ***\n",
       "---\n",
       "Signif. codes:  0 '***' 0.001 '**' 0.01 '*' 0.05 '.' 0.1 ' ' 1\n",
       "\n",
       "(Dispersion parameter for binomial family taken to be 1)\n",
       "\n",
       "    Null deviance: 1003.571  on 999  degrees of freedom\n",
       "Residual deviance:   92.221  on 997  degrees of freedom\n",
       "AIC: 98.221\n",
       "\n",
       "Number of Fisher Scoring iterations: 10\n"
      ]
     },
     "metadata": {},
     "output_type": "display_data"
    },
    {
     "data": {
      "text/html": [
       "<strong>McFadden:</strong> 0.908106992907196"
      ],
      "text/latex": [
       "\\textbf{McFadden:} 0.908106992907196"
      ],
      "text/markdown": [
       "**McFadden:** 0.908106992907196"
      ],
      "text/plain": [
       "McFadden \n",
       "0.908107 "
      ]
     },
     "metadata": {},
     "output_type": "display_data"
    }
   ],
   "source": [
    "m3 <- glm(ADMITTED ~ GPA + GRE, \n",
    "          data = admitting, family = binomial())\n",
    "summary(m3)\n",
    "PseudoR2(m3, which = \"McFadden\")"
   ]
  },
  {
   "cell_type": "code",
   "execution_count": 33,
   "metadata": {},
   "outputs": [
    {
     "data": {
      "text/plain": [
       "\n",
       "Call:\n",
       "glm(formula = ADMITTED ~ HOURS_STUDIED_FOR_ENRANCE_EXAM + GRE, \n",
       "    family = binomial(), data = admitting)\n",
       "\n",
       "Deviance Residuals: \n",
       "     Min        1Q    Median        3Q       Max  \n",
       "-2.28280  -0.01717  -0.00252  -0.00040   2.38322  \n",
       "\n",
       "Coefficients:\n",
       "                                Estimate Std. Error z value Pr(>|z|)    \n",
       "(Intercept)                    -93.85863   12.95893  -7.243 4.40e-13 ***\n",
       "HOURS_STUDIED_FOR_ENRANCE_EXAM  -0.14790    0.09597  -1.541    0.123    \n",
       "GRE                              0.32432    0.04681   6.928 4.26e-12 ***\n",
       "---\n",
       "Signif. codes:  0 '***' 0.001 '**' 0.01 '*' 0.05 '.' 0.1 ' ' 1\n",
       "\n",
       "(Dispersion parameter for binomial family taken to be 1)\n",
       "\n",
       "    Null deviance: 1003.571  on 999  degrees of freedom\n",
       "Residual deviance:   91.615  on 997  degrees of freedom\n",
       "AIC: 97.615\n",
       "\n",
       "Number of Fisher Scoring iterations: 10\n"
      ]
     },
     "metadata": {},
     "output_type": "display_data"
    },
    {
     "data": {
      "text/html": [
       "<strong>McFadden:</strong> 0.908711333149234"
      ],
      "text/latex": [
       "\\textbf{McFadden:} 0.908711333149234"
      ],
      "text/markdown": [
       "**McFadden:** 0.908711333149234"
      ],
      "text/plain": [
       " McFadden \n",
       "0.9087113 "
      ]
     },
     "metadata": {},
     "output_type": "display_data"
    },
    {
     "name": "stdout",
     "output_type": "stream",
     "text": [
      "Pseudo R^2 for logistic regression\n",
      "Hosmer and Lemeshow R^2\t 0.909 \n",
      "Cox and Snell R^2\t 0.598 \n",
      "Nagelkerke R^2\t 0.944 \n"
     ]
    }
   ],
   "source": [
    "m4 <- glm(ADMITTED ~ HOURS_STUDIED_FOR_ENRANCE_EXAM + GRE, \n",
    "          data = admitting, family = binomial())\n",
    "summary(m4)\n",
    "PseudoR2(m4, which = \"McFadden\")\n",
    "logisticPseudoR2s(m4)"
   ]
  },
  {
   "cell_type": "code",
   "execution_count": 34,
   "metadata": {},
   "outputs": [
    {
     "data": {
      "text/plain": [
       "\n",
       "Call:\n",
       "glm(formula = ADMITTED ~ HOURS_STUDIED_FOR_ENRANCE_EXAM + GPA, \n",
       "    family = binomial(), data = admitting)\n",
       "\n",
       "Deviance Residuals: \n",
       "     Min        1Q    Median        3Q       Max  \n",
       "-2.14272  -0.36202  -0.18437  -0.05563   2.78569  \n",
       "\n",
       "Coefficients:\n",
       "                               Estimate Std. Error z value Pr(>|z|)    \n",
       "(Intercept)                    -39.8224     2.9288 -13.597   <2e-16 ***\n",
       "HOURS_STUDIED_FOR_ENRANCE_EXAM   0.3435     0.0376   9.136   <2e-16 ***\n",
       "GPA                              6.8819     0.7874   8.740   <2e-16 ***\n",
       "---\n",
       "Signif. codes:  0 '***' 0.001 '**' 0.01 '*' 0.05 '.' 0.1 ' ' 1\n",
       "\n",
       "(Dispersion parameter for binomial family taken to be 1)\n",
       "\n",
       "    Null deviance: 1003.57  on 999  degrees of freedom\n",
       "Residual deviance:  492.24  on 997  degrees of freedom\n",
       "AIC: 498.24\n",
       "\n",
       "Number of Fisher Scoring iterations: 6\n"
      ]
     },
     "metadata": {},
     "output_type": "display_data"
    },
    {
     "data": {
      "text/html": [
       "<strong>McFadden:</strong> 0.509514118313602"
      ],
      "text/latex": [
       "\\textbf{McFadden:} 0.509514118313602"
      ],
      "text/markdown": [
       "**McFadden:** 0.509514118313602"
      ],
      "text/plain": [
       " McFadden \n",
       "0.5095141 "
      ]
     },
     "metadata": {},
     "output_type": "display_data"
    },
    {
     "name": "stdout",
     "output_type": "stream",
     "text": [
      "Pseudo R^2 for logistic regression\n",
      "Hosmer and Lemeshow R^2\t 0.51 \n",
      "Cox and Snell R^2\t 0.4 \n",
      "Nagelkerke R^2\t 0.632 \n"
     ]
    }
   ],
   "source": [
    "m5 <- glm(ADMITTED ~ HOURS_STUDIED_FOR_ENRANCE_EXAM + GPA, \n",
    "          data = admitting, family = binomial())\n",
    "summary(m5)\n",
    "PseudoR2(m5, which = \"McFadden\")\n",
    "logisticPseudoR2s(m5)"
   ]
  },
  {
   "cell_type": "code",
   "execution_count": 35,
   "metadata": {},
   "outputs": [
    {
     "data": {
      "text/plain": [
       "\n",
       "Call:\n",
       "glm(formula = ADMITTED ~ GRE, family = binomial(), data = admitting)\n",
       "\n",
       "Deviance Residuals: \n",
       "     Min        1Q    Median        3Q       Max  \n",
       "-2.00617  -0.01643  -0.00273  -0.00053   2.32062  \n",
       "\n",
       "Coefficients:\n",
       "            Estimate Std. Error z value Pr(>|z|)    \n",
       "(Intercept) -93.9476    12.8780  -7.295 2.98e-13 ***\n",
       "GRE           0.2994     0.0411   7.285 3.21e-13 ***\n",
       "---\n",
       "Signif. codes:  0 '***' 0.001 '**' 0.01 '*' 0.05 '.' 0.1 ' ' 1\n",
       "\n",
       "(Dispersion parameter for binomial family taken to be 1)\n",
       "\n",
       "    Null deviance: 1003.571  on 999  degrees of freedom\n",
       "Residual deviance:   94.009  on 998  degrees of freedom\n",
       "AIC: 98.009\n",
       "\n",
       "Number of Fisher Scoring iterations: 10\n"
      ]
     },
     "metadata": {},
     "output_type": "display_data"
    },
    {
     "data": {
      "text/html": [
       "<strong>McFadden:</strong> 0.906325538223985"
      ],
      "text/latex": [
       "\\textbf{McFadden:} 0.906325538223985"
      ],
      "text/markdown": [
       "**McFadden:** 0.906325538223985"
      ],
      "text/plain": [
       " McFadden \n",
       "0.9063255 "
      ]
     },
     "metadata": {},
     "output_type": "display_data"
    },
    {
     "name": "stdout",
     "output_type": "stream",
     "text": [
      "Pseudo R^2 for logistic regression\n",
      "Hosmer and Lemeshow R^2\t 0.906 \n",
      "Cox and Snell R^2\t 0.597 \n",
      "Nagelkerke R^2\t 0.943 \n"
     ]
    }
   ],
   "source": [
    "m6 <- glm(ADMITTED ~ GRE, \n",
    "          data = admitting, family = binomial())\n",
    "summary(m6)\n",
    "PseudoR2(m6, which = \"McFadden\")\n",
    "logisticPseudoR2s(m6)"
   ]
  },
  {
   "cell_type": "code",
   "execution_count": 36,
   "metadata": {},
   "outputs": [
    {
     "data": {
      "text/plain": [
       "\n",
       "Call:\n",
       "glm(formula = ADMITTED ~ HOURS_STUDIED_FOR_ENRANCE_EXAM, family = binomial(), \n",
       "    data = admitting)\n",
       "\n",
       "Deviance Residuals: \n",
       "     Min        1Q    Median        3Q       Max  \n",
       "-2.49441  -0.48790  -0.24774  -0.04873   2.81231  \n",
       "\n",
       "Coefficients:\n",
       "                                Estimate Std. Error z value Pr(>|z|)    \n",
       "(Intercept)                    -25.87059    1.81546  -14.25   <2e-16 ***\n",
       "HOURS_STUDIED_FOR_ENRANCE_EXAM   0.46671    0.03381   13.80   <2e-16 ***\n",
       "---\n",
       "Signif. codes:  0 '***' 0.001 '**' 0.01 '*' 0.05 '.' 0.1 ' ' 1\n",
       "\n",
       "(Dispersion parameter for binomial family taken to be 1)\n",
       "\n",
       "    Null deviance: 1003.57  on 999  degrees of freedom\n",
       "Residual deviance:  606.42  on 998  degrees of freedom\n",
       "AIC: 610.42\n",
       "\n",
       "Number of Fisher Scoring iterations: 6\n"
      ]
     },
     "metadata": {},
     "output_type": "display_data"
    },
    {
     "data": {
      "text/html": [
       "<strong>McFadden:</strong> 0.395735184359224"
      ],
      "text/latex": [
       "\\textbf{McFadden:} 0.395735184359224"
      ],
      "text/markdown": [
       "**McFadden:** 0.395735184359224"
      ],
      "text/plain": [
       " McFadden \n",
       "0.3957352 "
      ]
     },
     "metadata": {},
     "output_type": "display_data"
    }
   ],
   "source": [
    "m7 <- glm(ADMITTED ~ HOURS_STUDIED_FOR_ENRANCE_EXAM, \n",
    "          data = admitting, family = binomial())\n",
    "summary(m7)\n",
    "PseudoR2(m7, which = \"McFadden\")"
   ]
  },
  {
   "cell_type": "code",
   "execution_count": 37,
   "metadata": {},
   "outputs": [
    {
     "data": {
      "text/plain": [
       "\n",
       "Call:\n",
       "glm(formula = ADMITTED ~ GPA, family = binomial(), data = admitting)\n",
       "\n",
       "Deviance Residuals: \n",
       "    Min       1Q   Median       3Q      Max  \n",
       "-1.7946  -0.3156  -0.3156  -0.3156   2.4595  \n",
       "\n",
       "Coefficients:\n",
       "            Estimate Std. Error z value Pr(>|z|)    \n",
       "(Intercept) -30.1164     2.1263  -14.16   <2e-16 ***\n",
       "GPA           9.6935     0.7145   13.57   <2e-16 ***\n",
       "---\n",
       "Signif. codes:  0 '***' 0.001 '**' 0.01 '*' 0.05 '.' 0.1 ' ' 1\n",
       "\n",
       "(Dispersion parameter for binomial family taken to be 1)\n",
       "\n",
       "    Null deviance: 1003.57  on 999  degrees of freedom\n",
       "Residual deviance:  602.85  on 998  degrees of freedom\n",
       "AIC: 606.85\n",
       "\n",
       "Number of Fisher Scoring iterations: 6\n"
      ]
     },
     "metadata": {},
     "output_type": "display_data"
    },
    {
     "data": {
      "text/html": [
       "<strong>McFadden:</strong> 0.39930016769339"
      ],
      "text/latex": [
       "\\textbf{McFadden:} 0.39930016769339"
      ],
      "text/markdown": [
       "**McFadden:** 0.39930016769339"
      ],
      "text/plain": [
       " McFadden \n",
       "0.3993002 "
      ]
     },
     "metadata": {},
     "output_type": "display_data"
    }
   ],
   "source": [
    "m8 <- glm(ADMITTED ~ GPA, \n",
    "          data = admitting, family = binomial())\n",
    "summary(m8)\n",
    "PseudoR2(m8, which = \"McFadden\")"
   ]
  },
  {
   "cell_type": "code",
   "execution_count": 38,
   "metadata": {},
   "outputs": [
    {
     "data": {
      "text/html": [
       "<table>\n",
       "<thead><tr><th scope=col>Resid. Df</th><th scope=col>Resid. Dev</th><th scope=col>Df</th><th scope=col>Deviance</th><th scope=col>Pr(&gt;Chi)</th></tr></thead>\n",
       "<tbody>\n",
       "\t<tr><td>998      </td><td>94.00899 </td><td>NA       </td><td>      NA </td><td>       NA</td></tr>\n",
       "\t<tr><td>997      </td><td>91.61468 </td><td> 1       </td><td>2.394315 </td><td>0.1217771</td></tr>\n",
       "</tbody>\n",
       "</table>\n"
      ],
      "text/latex": [
       "\\begin{tabular}{r|lllll}\n",
       " Resid. Df & Resid. Dev & Df & Deviance & Pr(>Chi)\\\\\n",
       "\\hline\n",
       "\t 998       & 94.00899  & NA        &       NA  &        NA\\\\\n",
       "\t 997       & 91.61468  &  1        & 2.394315  & 0.1217771\\\\\n",
       "\\end{tabular}\n"
      ],
      "text/markdown": [
       "\n",
       "| Resid. Df | Resid. Dev | Df | Deviance | Pr(>Chi) |\n",
       "|---|---|---|---|---|\n",
       "| 998       | 94.00899  | NA        |       NA  |        NA |\n",
       "| 997       | 91.61468  |  1        | 2.394315  | 0.1217771 |\n",
       "\n"
      ],
      "text/plain": [
       "  Resid. Df Resid. Dev Df Deviance Pr(>Chi) \n",
       "1 998       94.00899   NA       NA        NA\n",
       "2 997       91.61468    1 2.394315 0.1217771"
      ]
     },
     "metadata": {},
     "output_type": "display_data"
    }
   ],
   "source": [
    "anova(m6,m4, test=\"LRT\")"
   ]
  },
  {
   "cell_type": "code",
   "execution_count": 39,
   "metadata": {},
   "outputs": [
    {
     "data": {
      "text/html": [
       "<table>\n",
       "<thead><tr><th scope=col>Resid. Df</th><th scope=col>Resid. Dev</th><th scope=col>Df</th><th scope=col>Deviance</th><th scope=col>Pr(&gt;Chi)</th></tr></thead>\n",
       "<tbody>\n",
       "\t<tr><td>998      </td><td> 94.00899</td><td>NA       </td><td>       NA</td><td>NA       </td></tr>\n",
       "\t<tr><td>998      </td><td>606.42276</td><td> 0       </td><td>-512.4138</td><td>NA       </td></tr>\n",
       "</tbody>\n",
       "</table>\n"
      ],
      "text/latex": [
       "\\begin{tabular}{r|lllll}\n",
       " Resid. Df & Resid. Dev & Df & Deviance & Pr(>Chi)\\\\\n",
       "\\hline\n",
       "\t 998       &  94.00899 & NA        &        NA & NA       \\\\\n",
       "\t 998       & 606.42276 &  0        & -512.4138 & NA       \\\\\n",
       "\\end{tabular}\n"
      ],
      "text/markdown": [
       "\n",
       "| Resid. Df | Resid. Dev | Df | Deviance | Pr(>Chi) |\n",
       "|---|---|---|---|---|\n",
       "| 998       |  94.00899 | NA        |        NA | NA        |\n",
       "| 998       | 606.42276 |  0        | -512.4138 | NA        |\n",
       "\n"
      ],
      "text/plain": [
       "  Resid. Df Resid. Dev Df Deviance  Pr(>Chi)\n",
       "1 998        94.00899  NA        NA NA      \n",
       "2 998       606.42276   0 -512.4138 NA      "
      ]
     },
     "metadata": {},
     "output_type": "display_data"
    }
   ],
   "source": [
    "anova(m6,m7, test=\"LRT\")"
   ]
  },
  {
   "cell_type": "markdown",
   "metadata": {},
   "source": [
    "## Q4.2"
   ]
  },
  {
   "cell_type": "code",
   "execution_count": 40,
   "metadata": {},
   "outputs": [
    {
     "data": {
      "text/html": [
       "<table>\n",
       "<thead><tr><th></th><th scope=col>GPA</th><th scope=col>HOURS_STUDIED_FOR_ENRANCE_EXAM</th><th scope=col>GRE</th><th scope=col>CRIMINAL_RECORD</th><th scope=col>ADMITTED</th></tr></thead>\n",
       "<tbody>\n",
       "\t<tr><th scope=row>GPA</th><td> 1.0000000 </td><td> 0.58294291</td><td>0.64211360 </td><td>-0.13887496</td><td>0.63395574 </td></tr>\n",
       "\t<tr><th scope=row>HOURS_STUDIED_FOR_ENRANCE_EXAM</th><td> 0.5829429 </td><td> 1.00000000</td><td>0.60614508 </td><td>-0.01541482</td><td>0.55414461 </td></tr>\n",
       "\t<tr><th scope=row>GRE</th><td> 0.6421136 </td><td> 0.60614508</td><td>1.00000000 </td><td> 0.02011365</td><td>0.86548362 </td></tr>\n",
       "\t<tr><th scope=row>CRIMINAL_RECORD</th><td>-0.1388750 </td><td>-0.01541482</td><td>0.02011365 </td><td> 1.00000000</td><td>0.01387519 </td></tr>\n",
       "\t<tr><th scope=row>ADMITTED</th><td> 0.6339557 </td><td> 0.55414461</td><td>0.86548362 </td><td> 0.01387519</td><td>1.00000000 </td></tr>\n",
       "</tbody>\n",
       "</table>\n"
      ],
      "text/latex": [
       "\\begin{tabular}{r|lllll}\n",
       "  & GPA & HOURS\\_STUDIED\\_FOR\\_ENRANCE\\_EXAM & GRE & CRIMINAL\\_RECORD & ADMITTED\\\\\n",
       "\\hline\n",
       "\tGPA &  1.0000000  &  0.58294291 & 0.64211360  & -0.13887496 & 0.63395574 \\\\\n",
       "\tHOURS\\_STUDIED\\_FOR\\_ENRANCE\\_EXAM &  0.5829429  &  1.00000000 & 0.60614508  & -0.01541482 & 0.55414461 \\\\\n",
       "\tGRE &  0.6421136  &  0.60614508 & 1.00000000  &  0.02011365 & 0.86548362 \\\\\n",
       "\tCRIMINAL\\_RECORD & -0.1388750  & -0.01541482 & 0.02011365  &  1.00000000 & 0.01387519 \\\\\n",
       "\tADMITTED &  0.6339557  &  0.55414461 & 0.86548362  &  0.01387519 & 1.00000000 \\\\\n",
       "\\end{tabular}\n"
      ],
      "text/markdown": [
       "\n",
       "| <!--/--> | GPA | HOURS_STUDIED_FOR_ENRANCE_EXAM | GRE | CRIMINAL_RECORD | ADMITTED |\n",
       "|---|---|---|---|---|---|\n",
       "| GPA |  1.0000000  |  0.58294291 | 0.64211360  | -0.13887496 | 0.63395574  |\n",
       "| HOURS_STUDIED_FOR_ENRANCE_EXAM |  0.5829429  |  1.00000000 | 0.60614508  | -0.01541482 | 0.55414461  |\n",
       "| GRE |  0.6421136  |  0.60614508 | 1.00000000  |  0.02011365 | 0.86548362  |\n",
       "| CRIMINAL_RECORD | -0.1388750  | -0.01541482 | 0.02011365  |  1.00000000 | 0.01387519  |\n",
       "| ADMITTED |  0.6339557  |  0.55414461 | 0.86548362  |  0.01387519 | 1.00000000  |\n",
       "\n"
      ],
      "text/plain": [
       "                               GPA        HOURS_STUDIED_FOR_ENRANCE_EXAM\n",
       "GPA                             1.0000000  0.58294291                   \n",
       "HOURS_STUDIED_FOR_ENRANCE_EXAM  0.5829429  1.00000000                   \n",
       "GRE                             0.6421136  0.60614508                   \n",
       "CRIMINAL_RECORD                -0.1388750 -0.01541482                   \n",
       "ADMITTED                        0.6339557  0.55414461                   \n",
       "                               GRE        CRIMINAL_RECORD ADMITTED  \n",
       "GPA                            0.64211360 -0.13887496     0.63395574\n",
       "HOURS_STUDIED_FOR_ENRANCE_EXAM 0.60614508 -0.01541482     0.55414461\n",
       "GRE                            1.00000000  0.02011365     0.86548362\n",
       "CRIMINAL_RECORD                0.02011365  1.00000000     0.01387519\n",
       "ADMITTED                       0.86548362  0.01387519     1.00000000"
      ]
     },
     "metadata": {},
     "output_type": "display_data"
    }
   ],
   "source": [
    "cor(admitting[, -4])"
   ]
  },
  {
   "cell_type": "code",
   "execution_count": 41,
   "metadata": {},
   "outputs": [
    {
     "data": {
      "text/html": [
       "<ol class=list-inline>\n",
       "\t<li>'GPA'</li>\n",
       "\t<li>'HOURS_STUDIED_FOR_ENRANCE_EXAM'</li>\n",
       "\t<li>'GRE'</li>\n",
       "\t<li>'RACE'</li>\n",
       "\t<li>'CRIMINAL_RECORD'</li>\n",
       "\t<li>'ADMITTED'</li>\n",
       "</ol>\n"
      ],
      "text/latex": [
       "\\begin{enumerate*}\n",
       "\\item 'GPA'\n",
       "\\item 'HOURS\\_STUDIED\\_FOR\\_ENRANCE\\_EXAM'\n",
       "\\item 'GRE'\n",
       "\\item 'RACE'\n",
       "\\item 'CRIMINAL\\_RECORD'\n",
       "\\item 'ADMITTED'\n",
       "\\end{enumerate*}\n"
      ],
      "text/markdown": [
       "1. 'GPA'\n",
       "2. 'HOURS_STUDIED_FOR_ENRANCE_EXAM'\n",
       "3. 'GRE'\n",
       "4. 'RACE'\n",
       "5. 'CRIMINAL_RECORD'\n",
       "6. 'ADMITTED'\n",
       "\n",
       "\n"
      ],
      "text/plain": [
       "[1] \"GPA\"                            \"HOURS_STUDIED_FOR_ENRANCE_EXAM\"\n",
       "[3] \"GRE\"                            \"RACE\"                          \n",
       "[5] \"CRIMINAL_RECORD\"                \"ADMITTED\"                      "
      ]
     },
     "metadata": {},
     "output_type": "display_data"
    }
   ],
   "source": [
    "colnames(admitting)"
   ]
  },
  {
   "cell_type": "code",
   "execution_count": 42,
   "metadata": {
    "scrolled": false
   },
   "outputs": [
    {
     "name": "stdout",
     "output_type": "stream",
     "text": [
      "GPA \n"
     ]
    },
    {
     "data": {
      "image/png": "[encoded data removed]",
      "text/plain": [
       "Plot with title \"Histogram of admitting[, col]\""
      ]
     },
     "metadata": {},
     "output_type": "display_data"
    },
    {
     "name": "stdout",
     "output_type": "stream",
     "text": [
      "HOURS_STUDIED_FOR_ENRANCE_EXAM \n"
     ]
    },
    {
     "data": {
      "image/png": "[encoded data removed]",
      "text/plain": [
       "Plot with title \"Histogram of admitting[, col]\""
      ]
     },
     "metadata": {},
     "output_type": "display_data"
    },
    {
     "name": "stdout",
     "output_type": "stream",
     "text": [
      "GRE \n"
     ]
    },
    {
     "data": {
      "image/png": "[encoded data removed]",
      "text/plain": [
       "Plot with title \"Histogram of admitting[, col]\""
      ]
     },
     "metadata": {},
     "output_type": "display_data"
    }
   ],
   "source": [
    "for(col in c('GPA','HOURS_STUDIED_FOR_ENRANCE_EXAM', 'GRE')){\n",
    "    hist(admitting[,col])\n",
    "    cat(col,'\\n')\n",
    "}"
   ]
  },
  {
   "cell_type": "code",
   "execution_count": 43,
   "metadata": {},
   "outputs": [
    {
     "data": {
      "text/plain": [
       "\n",
       "\tPearson's product-moment correlation\n",
       "\n",
       "data:  admitting$CRIMINAL_RECORD and admitting$HOURS_STUDIED_FOR_ENRANCE_EXAM\n",
       "t = -0.48703, df = 998, p-value = 0.6263\n",
       "alternative hypothesis: true correlation is not equal to 0\n",
       "95 percent confidence interval:\n",
       " -0.07733400  0.04662281\n",
       "sample estimates:\n",
       "        cor \n",
       "-0.01541482 \n"
      ]
     },
     "metadata": {},
     "output_type": "display_data"
    }
   ],
   "source": [
    "cor.test(admitting$CRIMINAL_RECORD, admitting$HOURS_STUDIED_FOR_ENRANCE_EXAM)"
   ]
  },
  {
   "cell_type": "code",
   "execution_count": 44,
   "metadata": {},
   "outputs": [
    {
     "data": {
      "text/plain": [
       "\n",
       "\tPearson's product-moment correlation\n",
       "\n",
       "data:  admitting$CRIMINAL_RECORD and admitting$GRE\n",
       "t = 0.63554, df = 998, p-value = 0.5252\n",
       "alternative hypothesis: true correlation is not equal to 0\n",
       "95 percent confidence interval:\n",
       " -0.04193171  0.08200448\n",
       "sample estimates:\n",
       "       cor \n",
       "0.02011365 \n"
      ]
     },
     "metadata": {},
     "output_type": "display_data"
    }
   ],
   "source": [
    "cor.test(admitting$CRIMINAL_RECORD, admitting$GRE)"
   ]
  },
  {
   "cell_type": "code",
   "execution_count": 45,
   "metadata": {},
   "outputs": [
    {
     "data": {
      "text/plain": [
       "\n",
       "\tPearson's product-moment correlation\n",
       "\n",
       "data:  admitting$ADMITTED and admitting$CRIMINAL_RECORD\n",
       "t = 0.43838, df = 998, p-value = 0.6612\n",
       "alternative hypothesis: true correlation is not equal to 0\n",
       "95 percent confidence interval:\n",
       " -0.04815932  0.07580307\n",
       "sample estimates:\n",
       "       cor \n",
       "0.01387519 \n"
      ]
     },
     "metadata": {},
     "output_type": "display_data"
    }
   ],
   "source": [
    "cor.test(admitting$ADMITTED, admitting$CRIMINAL_RECORD)"
   ]
  },
  {
   "cell_type": "code",
   "execution_count": 46,
   "metadata": {},
   "outputs": [
    {
     "data": {
      "text/plain": [
       "\n",
       "\tPearson's product-moment correlation\n",
       "\n",
       "data:  admitting$CRIMINAL_RECORD and admitting$GPA\n",
       "t = -4.4301, df = 998, p-value = 1.046e-05\n",
       "alternative hypothesis: true correlation is not equal to 0\n",
       "95 percent confidence interval:\n",
       " -0.19915347 -0.07754952\n",
       "sample estimates:\n",
       "      cor \n",
       "-0.138875 \n"
      ]
     },
     "metadata": {},
     "output_type": "display_data"
    }
   ],
   "source": [
    "cor.test(admitting$CRIMINAL_RECORD, admitting$GPA)"
   ]
  },
  {
   "cell_type": "code",
   "execution_count": 47,
   "metadata": {},
   "outputs": [
    {
     "data": {
      "text/plain": [
       "\n",
       "\tPearson's product-moment correlation\n",
       "\n",
       "data:  admitting$GPA and admitting$HOURS_STUDIED_FOR_ENRANCE_EXAM\n",
       "t = 22.665, df = 998, p-value < 2.2e-16\n",
       "alternative hypothesis: true correlation is not equal to 0\n",
       "95 percent confidence interval:\n",
       " 0.5404820 0.6224419\n",
       "sample estimates:\n",
       "      cor \n",
       "0.5829429 \n"
      ]
     },
     "metadata": {},
     "output_type": "display_data"
    }
   ],
   "source": [
    "cor.test(admitting$GPA, admitting$HOURS_STUDIED_FOR_ENRANCE_EXAM)"
   ]
  },
  {
   "cell_type": "code",
   "execution_count": null,
   "metadata": {},
   "outputs": [],
   "source": []
  }
 ],
 "metadata": {
  "kernelspec": {
   "display_name": "R",
   "language": "R",
   "name": "ir"
  },
  "language_info": {
   "codemirror_mode": "r",
   "file_extension": ".r",
   "mimetype": "text/x-r-source",
   "name": "R",
   "pygments_lexer": "r",
   "version": "3.6.1"
  }
 },
 "nbformat": 4,
 "nbformat_minor": 2
}
